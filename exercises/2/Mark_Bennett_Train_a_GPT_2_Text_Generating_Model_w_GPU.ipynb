{
  "nbformat": 4,
  "nbformat_minor": 0,
  "metadata": {
    "colab": {
      "name": "Mark Bennett Train a GPT-2 Text-Generating Model w/ GPU",
      "provenance": [],
      "collapsed_sections": []
    },
    "kernelspec": {
      "name": "python3",
      "display_name": "Python 3"
    },
    "accelerator": "GPU"
  },
  "cells": [
    {
      "cell_type": "markdown",
      "metadata": {
        "id": "H7LoMj4GA4n_"
      },
      "source": [
        "#  Train a GPT-2 Text-Generating Model w/ GPU For Free \n",
        "\n",
        "by [Max Woolf](http://minimaxir.com)\n",
        "\n",
        "*Last updated: November 10th, 2019*\n",
        "\n",
        "Retrain an advanced text generating neural network on any text dataset **for free on a GPU using Collaboratory** using `gpt-2-simple`!\n",
        "\n",
        "For more about `gpt-2-simple`, you can visit [this GitHub repository](https://github.com/minimaxir/gpt-2-simple). You can also read my [blog post](https://minimaxir.com/2019/09/howto-gpt2/) for more information how to use this notebook!\n",
        "\n",
        "\n",
        "To get started:\n",
        "\n",
        "1. Copy this notebook to your Google Drive to keep it and save your changes. (File -> Save a Copy in Drive)\n",
        "2. Make sure you're running the notebook in Google Chrome.\n",
        "3. Run the cells below:\n"
      ]
    },
    {
      "cell_type": "code",
      "metadata": {
        "id": "KBkpRgBCBS2_",
        "colab": {
          "base_uri": "https://localhost:8080/"
        },
        "outputId": "aa43fb26-dee0-4b03-b975-102b01a68046"
      },
      "source": [
        "%tensorflow_version 1.x\n",
        "!pip install -q gpt-2-simple\n",
        "import gpt_2_simple as gpt2\n",
        "from datetime import datetime\n",
        "from google.colab import files"
      ],
      "execution_count": 1,
      "outputs": [
        {
          "output_type": "stream",
          "text": [
            "TensorFlow 1.x selected.\n",
            "WARNING:tensorflow:\n",
            "The TensorFlow contrib module will not be included in TensorFlow 2.0.\n",
            "For more information, please see:\n",
            "  * https://github.com/tensorflow/community/blob/master/rfcs/20180907-contrib-sunset.md\n",
            "  * https://github.com/tensorflow/addons\n",
            "  * https://github.com/tensorflow/io (for I/O related ops)\n",
            "If you depend on functionality not listed there, please file an issue.\n",
            "\n"
          ],
          "name": "stdout"
        }
      ]
    },
    {
      "cell_type": "markdown",
      "metadata": {
        "id": "Bj2IJLHP3KwE"
      },
      "source": [
        "## GPU\n",
        "\n",
        "Colaboratory uses either a Nvidia T4 GPU or an Nvidia K80 GPU. The T4 is slightly faster than the old K80 for training GPT-2, and has more memory allowing you to train the larger GPT-2 models and generate more text.\n",
        "\n",
        "You can verify which GPU is active by running the cell below."
      ]
    },
    {
      "cell_type": "code",
      "metadata": {
        "id": "sUmTooTW3osf",
        "colab": {
          "base_uri": "https://localhost:8080/"
        },
        "outputId": "e09eae16-a22d-47af-c393-fa561b7d082f"
      },
      "source": [
        "!nvidia-smi"
      ],
      "execution_count": 2,
      "outputs": [
        {
          "output_type": "stream",
          "text": [
            "Sun Jan 31 19:49:55 2021       \n",
            "+-----------------------------------------------------------------------------+\n",
            "| NVIDIA-SMI 460.32.03    Driver Version: 418.67       CUDA Version: 10.1     |\n",
            "|-------------------------------+----------------------+----------------------+\n",
            "| GPU  Name        Persistence-M| Bus-Id        Disp.A | Volatile Uncorr. ECC |\n",
            "| Fan  Temp  Perf  Pwr:Usage/Cap|         Memory-Usage | GPU-Util  Compute M. |\n",
            "|                               |                      |               MIG M. |\n",
            "|===============================+======================+======================|\n",
            "|   0  Tesla T4            Off  | 00000000:00:04.0 Off |                    0 |\n",
            "| N/A   71C    P8    11W /  70W |      0MiB / 15079MiB |      0%      Default |\n",
            "|                               |                      |                 ERR! |\n",
            "+-------------------------------+----------------------+----------------------+\n",
            "                                                                               \n",
            "+-----------------------------------------------------------------------------+\n",
            "| Processes:                                                                  |\n",
            "|  GPU   GI   CI        PID   Type   Process name                  GPU Memory |\n",
            "|        ID   ID                                                   Usage      |\n",
            "|=============================================================================|\n",
            "|  No running processes found                                                 |\n",
            "+-----------------------------------------------------------------------------+\n"
          ],
          "name": "stdout"
        }
      ]
    },
    {
      "cell_type": "markdown",
      "metadata": {
        "id": "0wXB05bPDYxS"
      },
      "source": [
        "## Downloading GPT-2\n",
        "\n",
        "If you're retraining a model on new text, you need to download the GPT-2 model first. \n",
        "\n",
        "There are three released sizes of GPT-2:\n",
        "\n",
        "* `124M` (default): the \"small\" model, 500MB on disk.\n",
        "* `355M`: the \"medium\" model, 1.5GB on disk.\n",
        "* `774M`: the \"large\" model, cannot currently be finetuned with Colaboratory but can be used to generate text from the pretrained model (see later in Notebook)\n",
        "* `1558M`: the \"extra large\", true model. Will not work if a K80 GPU is attached to the notebook. (like `774M`, it cannot be finetuned).\n",
        "\n",
        "Larger models have more knowledge, but take longer to finetune and longer to generate text. You can specify which base model to use by changing `model_name` in the cells below.\n",
        "\n",
        "The next cell downloads it from Google Cloud Storage and saves it in the Colaboratory VM at `/models/<model_name>`.\n",
        "\n",
        "This model isn't permanently saved in the Colaboratory VM; you'll have to redownload it if you want to retrain it at a later time."
      ]
    },
    {
      "cell_type": "code",
      "metadata": {
        "id": "P8wSlgXoDPCR",
        "colab": {
          "base_uri": "https://localhost:8080/"
        },
        "outputId": "0d4f847a-9748-4ab0-fcce-30e7c47b33b5"
      },
      "source": [
        "gpt2.download_gpt2(model_name=\"124M\")"
      ],
      "execution_count": 3,
      "outputs": [
        {
          "output_type": "stream",
          "text": [
            "Fetching checkpoint: 1.05Mit [00:00, 272Mit/s]                                                      \n",
            "Fetching encoder.json: 1.05Mit [00:00, 120Mit/s]                                                    \n",
            "Fetching hparams.json: 1.05Mit [00:00, 359Mit/s]                                                    \n",
            "Fetching model.ckpt.data-00000-of-00001: 498Mit [00:01, 252Mit/s]                                   \n",
            "Fetching model.ckpt.index: 1.05Mit [00:00, 320Mit/s]                                                \n",
            "Fetching model.ckpt.meta: 1.05Mit [00:00, 207Mit/s]                                                 \n",
            "Fetching vocab.bpe: 1.05Mit [00:00, 184Mit/s]                                                       \n"
          ],
          "name": "stderr"
        }
      ]
    },
    {
      "cell_type": "markdown",
      "metadata": {
        "id": "N8KXuKWzQSsN"
      },
      "source": [
        "## Mounting Google Drive\n",
        "\n",
        "The best way to get input text to-be-trained into the Colaboratory VM, and to get the trained model *out* of Colaboratory, is to route it through Google Drive *first*.\n",
        "\n",
        "Running this cell (which will only work in Colaboratory) will mount your personal Google Drive in the VM, which later cells can use to get data in/out. (it will ask for an auth code; that auth is not saved anywhere)"
      ]
    },
    {
      "cell_type": "code",
      "metadata": {
        "id": "puq4iC6vUAHc",
        "colab": {
          "base_uri": "https://localhost:8080/"
        },
        "outputId": "769d86e7-413a-49f9-e8ff-698429df83ee"
      },
      "source": [
        "gpt2.mount_gdrive()"
      ],
      "execution_count": 4,
      "outputs": [
        {
          "output_type": "stream",
          "text": [
            "Drive already mounted at /content/drive; to attempt to forcibly remount, call drive.mount(\"/content/drive\", force_remount=True).\n"
          ],
          "name": "stdout"
        }
      ]
    },
    {
      "cell_type": "markdown",
      "metadata": {
        "id": "BT__brhBCvJu"
      },
      "source": [
        "## Uploading a Text File to be Trained to Colaboratory\n",
        "\n",
        "In the Colaboratory Notebook sidebar on the left of the screen, select *Files*. From there you can upload files:\n",
        "\n",
        "![alt text](https://i.imgur.com/TGcZT4h.png)\n",
        "\n",
        "Upload **any smaller text file**  (<10 MB) and update the file name in the cell below, then run the cell."
      ]
    },
    {
      "cell_type": "code",
      "metadata": {
        "id": "6OFnPCLADfll"
      },
      "source": [
        "file_name = \"kanye_verses.txt\""
      ],
      "execution_count": 5,
      "outputs": []
    },
    {
      "cell_type": "markdown",
      "metadata": {
        "id": "HeeSKtNWUedE"
      },
      "source": [
        "If your text file is larger than 10MB, it is recommended to upload that file to Google Drive first, then copy that file from Google Drive to the Colaboratory VM."
      ]
    },
    {
      "cell_type": "code",
      "metadata": {
        "id": "-Z6okFD8VKtS"
      },
      "source": [
        "gpt2.copy_file_from_gdrive(file_name)"
      ],
      "execution_count": null,
      "outputs": []
    },
    {
      "cell_type": "markdown",
      "metadata": {
        "id": "LdpZQXknFNY3"
      },
      "source": [
        "## Finetune GPT-2\n",
        "\n",
        "The next cell will start the actual finetuning of GPT-2. It creates a persistent TensorFlow session which stores the training config, then runs the training for the specified number of `steps`. (to have the finetuning run indefinitely, set `steps = -1`)\n",
        "\n",
        "The model checkpoints will be saved in `/checkpoint/run1` by default. The checkpoints are saved every 500 steps (can be changed) and when the cell is stopped.\n",
        "\n",
        "The training might time out after 4ish hours; make sure you end training and save the results so you don't lose them!\n",
        "\n",
        "**IMPORTANT NOTE:** If you want to rerun this cell, **restart the VM first** (Runtime -> Restart Runtime). You will need to rerun imports but not recopy files.\n",
        "\n",
        "Other optional-but-helpful parameters for `gpt2.finetune`:\n",
        "\n",
        "\n",
        "*  **`restore_from`**: Set to `fresh` to start training from the base GPT-2, or set to `latest` to restart training from an existing checkpoint.\n",
        "* **`sample_every`**: Number of steps to print example output\n",
        "* **`print_every`**: Number of steps to print training progress.\n",
        "* **`learning_rate`**:  Learning rate for the training. (default `1e-4`, can lower to `1e-5` if you have <1MB input data)\n",
        "*  **`run_name`**: subfolder within `checkpoint` to save the model. This is useful if you want to work with multiple models (will also need to specify  `run_name` when loading the model)\n",
        "* **`overwrite`**: Set to `True` if you want to continue finetuning an existing model (w/ `restore_from='latest'`) without creating duplicate copies. "
      ]
    },
    {
      "cell_type": "code",
      "metadata": {
        "id": "aeXshJM-Cuaf",
        "colab": {
          "base_uri": "https://localhost:8080/"
        },
        "outputId": "71ae1c3a-cb23-4fe7-a697-383ca3ba00f5"
      },
      "source": [
        "sess = gpt2.start_tf_sess()\n",
        "\n",
        "gpt2.finetune(sess,\n",
        "              dataset=file_name,\n",
        "              model_name='124M',\n",
        "              steps=1000,\n",
        "              restore_from='fresh',\n",
        "              run_name='kanye1',\n",
        "              print_every=10,\n",
        "              sample_every=200,\n",
        "              save_every=500\n",
        "              )"
      ],
      "execution_count": 6,
      "outputs": [
        {
          "output_type": "stream",
          "text": [
            "WARNING:tensorflow:From /usr/local/lib/python3.6/dist-packages/gpt_2_simple/src/sample.py:17: where (from tensorflow.python.ops.array_ops) is deprecated and will be removed in a future version.\n",
            "Instructions for updating:\n",
            "Use tf.where in 2.0, which has the same broadcast rule as np.where\n",
            "Loading checkpoint models/124M/model.ckpt\n",
            "INFO:tensorflow:Restoring parameters from models/124M/model.ckpt\n"
          ],
          "name": "stdout"
        },
        {
          "output_type": "stream",
          "text": [
            "\r  0%|          | 0/1 [00:00<?, ?it/s]"
          ],
          "name": "stderr"
        },
        {
          "output_type": "stream",
          "text": [
            "Loading dataset...\n"
          ],
          "name": "stdout"
        },
        {
          "output_type": "stream",
          "text": [
            "100%|██████████| 1/1 [00:00<00:00,  2.08it/s]\n"
          ],
          "name": "stderr"
        },
        {
          "output_type": "stream",
          "text": [
            "dataset has 72708 tokens\n",
            "Training...\n",
            "[10 | 28.13] loss=3.87 avg=3.87\n",
            "[20 | 51.24] loss=3.81 avg=3.84\n",
            "[30 | 74.27] loss=3.45 avg=3.71\n",
            "[40 | 96.95] loss=3.33 avg=3.61\n",
            "[50 | 119.72] loss=3.33 avg=3.56\n",
            "[60 | 142.64] loss=3.29 avg=3.51\n",
            "[70 | 165.50] loss=3.03 avg=3.44\n",
            "[80 | 188.31] loss=2.76 avg=3.35\n",
            "[90 | 211.09] loss=2.15 avg=3.21\n",
            "[100 | 233.95] loss=2.35 avg=3.12\n",
            "[110 | 256.84] loss=2.17 avg=3.03\n",
            "[120 | 279.75] loss=2.08 avg=2.95\n",
            "[130 | 302.64] loss=1.87 avg=2.86\n",
            "[140 | 325.52] loss=1.51 avg=2.76\n",
            "[150 | 348.42] loss=1.37 avg=2.66\n",
            "[160 | 371.31] loss=1.15 avg=2.56\n",
            "[170 | 394.26] loss=0.99 avg=2.46\n",
            "[180 | 417.15] loss=0.85 avg=2.36\n",
            "[190 | 440.05] loss=0.82 avg=2.27\n",
            "[200 | 462.94] loss=0.44 avg=2.17\n",
            "======== SAMPLE 1 ========\n",
            " wear.\n",
            "But I know that I'm handsome, handsome\n",
            "And I'm killing y'all with my platinum\n",
            "Claw, crack and pull the restraint chair back\n",
            "And I pull the stunt, turn the page on page two\n",
            "Pull up in the Bugatti, and I'm rapping again\n",
            "Yeah I know they rhyme, but rhyme right, cause\n",
            "We killing the game, man, that's a lot of beats\n",
            "So kill the crowds, you take the streets\n",
            "When the fuck is over, kill the Ali niggas\n",
            "They wanna throw a 'tour de France'\n",
            "I want a little park in the middle\n",
            "Of The Mist\n",
            "Where the nominata lie, where the tummy be\n",
            "Fuck whoever tryna make you next\n",
            "Fuck whoever tryna make you next\n",
            "Till we hit the Planet, where the fuck the fuck we Pluto\n",
            "The middle finger never go out\n",
            "Fuck whoever make music they make today\n",
            "What they doin', they improvise, they they improvise\n",
            "Fuck whoever make new shit, I'm out of my mind\n",
            "Fuck whoever make new shit\n",
            "Yeah I see them eyes flicking, that kinda break the bank\n",
            "Yeah I see them eyelids flicking, that kinda break the bank\n",
            "Cause when I'm at work, she gonna never come back home\n",
            "The best shoes ever, the suits 'bout the mechanics\n",
            "But when I go out, she gon' show me her friends seats\n",
            "Until I get home, she never left the club\n",
            "So it's only right to stay at home, huh?\n",
            "\n",
            "I'm a Fruit of Gaea\n",
            "I live by the sword\n",
            "And take it to the kingdom\n",
            "Riding the speedo, prop the oldie up\n",
            "Yeah ma ma ma, ma ma, ma ma ma\n",
            "Golly, I wish I could give you this many hands\n",
            "I wish I could give you this many faces\n",
            "I wish I could give you this many faces\n",
            "This persona is mine, you choose which one you like\n",
            "This fucking cake stand, it's my choice, man\n",
            "I wish I could get away with this, too long as I don't break the bank\n",
            "But I'm too fucking busy with my business to do that\n",
            "I can't see past the paparazzi\n",
            "I can't see past the peephole\n",
            "But I can see the church today, I can't help it\n",
            "\n",
            "I'm a Fruit of Gaea\n",
            "A New World Order\n",
            "Mo's and pop stars I deal with\n",
            "Like Michael Jackson, but without substance\n",
            "Like Michael grow older, I get on cell\n",
            "I could be any of these guys: name just a gloss\n",
            "Shorties about cars and the shittest things\n",
            "Stack the fat on top and flow down\n",
            "I call that lip gloss and sip it unholy\n",
            "Pink-out-Pink Ryder doing her thing, unholy\n",
            "Yeah I got a bridal dress, yeah I got topless\n",
            "I put on everything to be king, and now you're queen\n",
            "I've been looking forward to your eyes fucking me\n",
            "Now let me see who really wants to be Super Bowl chauncey\n",
            "And who really wants to be Kim Kardashian meets K-Rich asshole\n",
            "\n",
            "Well hello there, my name is Brandon and I'm from Brooklyn\n",
            "I was raised on The Blueprint 3, 4 and I copped it from the first fuckers\n",
            "Like Jay, I did everything from the break room\n",
            "To shoot the financier's cape\n",
            "Full stop, gangsta rap!\n",
            "You got em coming home on fire\n",
            "Niggas hustle every day to keep my shop open\n",
            "And my cat named Riley, she had the same name\n",
            "Her name so cute I went and bought it all\n",
            "Then one day she met mine and she was Lickit\n",
            "And she been doing really, really Creepypasta\n",
            "\n",
            "Now what the fuck right out your mind if I say shit like that?\n",
            "When I say shit like that?\n",
            "When I say shit like that?\n",
            "Then maybe we should talk\n",
            "Cause I know when I say shit like that I mean shit\n",
            "This your birthday, G.O.A.D.A.M\n",
            "\n",
            "I got strippers coming, so it's only right that I stay\n",
            "Girls like me just topless, we killing the atmosphere\n",
            "It's cause we so often overlooked\n",
            "So the spotlight on the best in all of us\n",
            "So when I'm out in the crowd it lights it up\n",
            "Like when J. Cole rocked the Joes\n",
            "And Jeezy rocked the beats\n",
            "Roll 'em to the Kelly Rowland tribute\n",
            "Hey boys and girls, I'm back in fashion\n",
            "Back to my classic silhouette with a splash of Marc Jacobs\n",
            "\n",
            "I'm back to my classic silhouette with a splash of Marc Jacobs\n",
            "\n",
            "I don't cut it short, cut me some s*** and tell me how it go\n",
            "\n",
            "I ain't trying to stunt so I turn up late\n",
            "But I need that\n",
            "\n",
            "[210 | 498.25] loss=0.53 avg=2.08\n",
            "[220 | 521.16] loss=0.34 avg=2.00\n",
            "[230 | 544.04] loss=0.30 avg=1.91\n",
            "[240 | 566.88] loss=0.31 avg=1.84\n",
            "[250 | 589.70] loss=0.14 avg=1.76\n",
            "[260 | 612.53] loss=0.26 avg=1.70\n",
            "[270 | 635.40] loss=0.18 avg=1.63\n",
            "[280 | 658.25] loss=0.13 avg=1.57\n",
            "[290 | 681.11] loss=0.14 avg=1.52\n",
            "[300 | 703.96] loss=0.08 avg=1.46\n",
            "[310 | 726.81] loss=0.10 avg=1.41\n",
            "[320 | 749.65] loss=0.09 avg=1.36\n",
            "[330 | 772.49] loss=0.15 avg=1.32\n",
            "[340 | 795.35] loss=0.13 avg=1.28\n",
            "[350 | 818.21] loss=0.07 avg=1.24\n",
            "[360 | 841.09] loss=0.07 avg=1.20\n",
            "[370 | 863.98] loss=0.06 avg=1.16\n",
            "[380 | 886.88] loss=0.07 avg=1.13\n",
            "[390 | 909.82] loss=0.09 avg=1.10\n",
            "[400 | 932.70] loss=0.15 avg=1.07\n",
            "======== SAMPLE 1 ========\n",
            " ok I guess\n",
            "I guess +1 is a nice, long haul\n",
            "And a bittersweet -1 is a light one\n",
            "So celebrate and hollerate & blessings are at earu...\n",
            "\n",
            "Hey homie I know you don't know me\n",
            "But I know you do if you ask me\n",
            "What it feel like to be on fire\n",
            "Or to be on fire really get it\n",
            "The second the truth hit home just to show....\n",
            "Did you know the best classes are the ones that\n",
            "Make me cum all over you\n",
            "Make me explode all over you\n",
            "Make me cum all over you\n",
            "And get you talking like nothing really happened\n",
            "Now I know you like to think, but I\n",
            "Don’t really remember the name, did I?\n",
            "But you remember my class picture\n",
            "Saved it to share with the class\n",
            "Oh no, that’s too risky\n",
            "Especially when you get on the wrong end of the spectrum\n",
            "So I>playedful/> I told you 'fore I sang your name out\n",
            "And we headed to class with the homework\n",
            "Yeah we headed to cause we both need\n",
            "Hey did you see the way she was?\n",
            "Did she look back at me with a sour expression\n",
            "You should have seen how she went a couple of months\n",
            "Then she gone now, damn your lips is frosted\n",
            "And you look at me like I was stupid\n",
            "Ha, you looked at me like I had been stupid\n",
            "And you look at me like I had lied\n",
            "And you look at me as I see that it's icy\n",
            "And you keep messing with me?\n",
            "Maybe we can work things out, or leave this shit behind\n",
            "\n",
            "You remember my Smashing Pony titties?\n",
            "And I was always the bright side to the bullies\n",
            "They just could not forgive me\n",
            "I had to use the restroom in a 30k white Lexus\n",
            "Throwing down for the winter if you will\n",
            "The cold took my life like a drug that turn me on\n",
            "Turn me on in the club\n",
            "Turn me on because you like the mood light?\n",
            "Turn me on when I'm in the club\n",
            "Turn me on when I'm cruising\n",
            "If I'm feeling ho, ho, I'm feeling woo\n",
            "Highly-wed ho, woo-hee, woo-woo\n",
            "You over, I'm over\n",
            "You over, I'm over\n",
            "You over, I'm over\n",
            "You over, that's over\n",
            "That's over, goodnight, goodbye\n",
            "Good morning, goodbye to me\n",
            " Goodbye, goodbye to me\n",
            "Good morning, goodbye to me\n",
            "Good morning, goodbye to me\n",
            "Good morning, goodbye to my mom\n",
            "bye bye, bye to myself\n",
            "Everything I'm not made me oh\n",
            "And I'm definitely gonna die\n",
            "And I'm definitely gonna die\n",
            "\n",
            "My god-sister gonna kill herself over candy from the web\n",
            "I can't deny that, but yeah\n",
            "\n",
            "I think I killed my best friend by switching up the volume\n",
            "And then I woke up and I ain't even go to sleep\n",
            "I think I just killed a better man\n",
            "By switching up the volumeAnd then I woke up and I ain't even go to sleep\n",
            "\n",
            "Y'all think you know that it's nights since you last seen me\n",
            "And everything that you heard lately you ain't even right\n",
            "You just go out and grab a girl and call her Beyoncé\n",
            "And the next day she'll call you back and say she too cacko\n",
            "And every time that I'm in the club she just wanna bleach me\n",
            "So bleach you, please, please don't put shit in my mouth\n",
            "Bleached you, please, please don't put shit in my mouth\n",
            "And when she do, I'm like nigga, you should stay in my city\n",
            "She ain't go out and grab a girl and call her A photo\n",
            "And when she do, I'm like nigga, you should stay in my city\n",
            "She ain't go out and grab a girl and call her A photo\n",
            "\n",
            "You know when you never got what you ask for\n",
            "You had to be extra nice to get what you ask for\n",
            "Then I'll send you a custom size\n",
            "You never wanna get the best of me\n",
            "But just know that there's more good girls in the world\n",
            "And than there are, and know it\n",
            "\n",
            "I've been wakin' the spirits of kids and fans\n",
            "Around the bend like they never have\n",
            "Take for granted the access to the stars\n",
            "And the chance to shine like diamond in the eye\n",
            "You only got 30 days left\n",
            "In that time you could have a fucking relationship\n",
            "What the fuck was I supposed to do?\n",
            "I've been wakin' the spirits of kids and fans\n",
            "Around the bend like they never have\n",
            "Take for granted the access to the stars\n",
            "And the chance to shine like diamond in the eye\n",
            "You only got 30 days\n",
            "In that time you could have a fucking relationship\n",
            "What the fuck was I supposed to do\n",
            "\n",
            "[410 | 965.96] loss=0.05 avg=1.04\n",
            "[420 | 988.80] loss=0.05 avg=1.01\n",
            "[430 | 1011.61] loss=0.05 avg=0.98\n",
            "[440 | 1034.44] loss=0.05 avg=0.96\n",
            "[450 | 1057.24] loss=0.06 avg=0.93\n",
            "[460 | 1080.05] loss=0.04 avg=0.91\n",
            "[470 | 1102.88] loss=0.05 avg=0.88\n",
            "[480 | 1125.72] loss=0.05 avg=0.86\n",
            "[490 | 1148.55] loss=0.06 avg=0.84\n",
            "[500 | 1171.36] loss=0.05 avg=0.82\n",
            "Saving checkpoint/kanye1/model-500\n",
            "[510 | 1196.97] loss=0.05 avg=0.80\n",
            "[520 | 1219.89] loss=0.05 avg=0.78\n",
            "[530 | 1242.76] loss=0.04 avg=0.77\n",
            "[540 | 1265.56] loss=0.05 avg=0.75\n",
            "[550 | 1288.38] loss=0.04 avg=0.73\n",
            "[560 | 1311.18] loss=0.05 avg=0.72\n",
            "[570 | 1333.99] loss=0.07 avg=0.70\n",
            "[580 | 1356.84] loss=0.05 avg=0.69\n",
            "[590 | 1379.71] loss=0.04 avg=0.67\n",
            "[600 | 1402.61] loss=0.05 avg=0.66\n",
            "======== SAMPLE 1 ========\n",
            " you do this in your dreams\n",
            "Don't do this for the fame, do this for the room, do this for the bye week\n",
            "We ain’t trippin' yet, but we're close ain’t we?\n",
            "You niggas’ttíll rip your jeans off, and I’ll tear your soul out\n",
            "You niggas’ttíll rip your pants off, and I’ll rip your soul out\n",
            "You niggas’ttíll rip your soul out\n",
            "You niggas’ttíll rip your soul out\n",
            "\n",
            "This is real life, do this for the page\n",
            "Take off your glasses, make up 'fours if you like, you just raised a hundred\n",
            "We don’t let you touch the floor, don’t let go, oh\n",
            "This is real life, do this for the screen\n",
            "This’��� for the screen\n",
            "You wanna turn this up again?\n",
            "\n",
            "I-I-I don’t wanna ruin it, uh\n",
            "For the life of me and my boy\n",
            "Bitch I'm blameless, I don’t be bound\n",
            "And if you would like just to sit and savor it\n",
            "Jay I’ll annihilate your persona\n",
            "You're so clean and fresh, amazing!\n",
            "Let's start the interview, I’ll be so fresh, I won’t be sallow\n",
            "I don’t really wanna say anything, do I?\n",
            "But I’m so fresh I might even say my own damn self\n",
            "Reebok, let's start the interview, I’ll be so fresh, I might even say my own self\n",
            "Reebok, let's start the interview, I don’t really wanna say anything\n",
            "\n",
            "You wanna hate it though, I don’t really wanna say anything\n",
            "But I’m so fresh, I might even say my own self\n",
            "Reebok, let's start the interview, I don’t really wanna say anything\n",
            "But I’m so fresh, I might even say my own self\n",
            "Reebok, let's start the interview, I don’t really wanna say anything\n",
            "Choke 'em to death, so very very very very very very very very very very very very very very very very very very\n",
            "\n",
            "Sibling rivalry, right? But not anymore, not when my team up\n",
            " was happening, I went to work, my shift finished\n",
            "My brother saying I should stay, I went to work\n",
            "And then they said I couldn't work, I couldn't work\n",
            "I had to take my eyes off the camera\n",
            "To make them picture me, yeah, that’s right\n",
            "They all over the place, don’t let them go, you don’t have to tell\n",
            "I don’t let them kill my demons, fly 'ever so lightly\"\n",
            "\n",
            "Dutty tellin' you what's on your mind, don’t let them ever worry you\n",
            "Or cause them problems, cause them problems\n",
            "You are not supposed to touch them folk, kids!\n",
            "\n",
            "What's up nigga, nigga?\n",
            "They Don’t wanna play fair, you muthafuckers\n",
            "\n",
            "I'mma cut your nut, I'mma serve ya, my nigga\n",
            "Molly, play your favorite song, please, please (fuck you)\n",
            "Bitch, I'm tired, bitch I’m almost there\n",
            "I’d rather you fucked up, bitch\n",
            "You ain't on call, you on call (fuck you)\n",
            "I'm worth the effort, you ain't on call (fuck you)\n",
            "You ain't on call, you on call (fuck you)\n",
            "You ain't on call, you on call (fuck you)\n",
            "Like (fuck you) and leave a review\n",
            "Good thing she like (fuck you) Michael Jackson\n",
            "Might come send us his daughter\n",
            "She be so edgy, say so dirty\n",
            "If she like Gucci, say so gay\n",
            "I like the way you look (dressed up like a famous face)\n",
            "I like the way you look (dressed up like a famous face)\n",
            "\n",
            "How many niggas could you bring to the game like?\n",
            "How many niggas could you bring to the game like?\n",
            "Must be too many eggs in the wok, but we have our problems\n",
            "We have our own soap box, I needed a little voice\n",
            "I needed a little voice, Mr. Speaker, I need your men\n",
            "Come and watch the whole thing (Sorry, Mr. Speaker)\n",
            "You love my accent, but you don't love my accent\n",
            "You love my lyrics, but you don't like my lyrics\n",
            "You love my spirit, but you don't like my spirit\n",
            "You love my sense of humor, but\n",
            "\n",
            "[610 | 1435.84] loss=0.06 avg=0.64\n",
            "[620 | 1458.70] loss=0.04 avg=0.63\n",
            "[630 | 1481.57] loss=0.05 avg=0.62\n",
            "[640 | 1504.44] loss=0.03 avg=0.61\n",
            "[650 | 1527.31] loss=0.08 avg=0.60\n",
            "[660 | 1550.19] loss=0.04 avg=0.58\n",
            "[670 | 1573.09] loss=0.04 avg=0.57\n",
            "[680 | 1595.90] loss=0.05 avg=0.56\n",
            "[690 | 1618.72] loss=0.04 avg=0.55\n",
            "[700 | 1641.51] loss=0.04 avg=0.54\n",
            "[710 | 1664.32] loss=0.04 avg=0.53\n",
            "[720 | 1687.15] loss=0.04 avg=0.52\n",
            "[730 | 1709.99] loss=0.04 avg=0.51\n",
            "[740 | 1732.85] loss=0.04 avg=0.50\n",
            "[750 | 1755.72] loss=0.04 avg=0.50\n",
            "[760 | 1778.59] loss=0.04 avg=0.49\n",
            "[770 | 1801.44] loss=0.05 avg=0.48\n",
            "[780 | 1824.28] loss=0.05 avg=0.47\n",
            "[790 | 1847.11] loss=0.04 avg=0.46\n",
            "[800 | 1869.98] loss=0.04 avg=0.46\n",
            "======== SAMPLE 1 ========\n",
            "\n",
            "\n",
            "If you could feel my heartbeat, feel it, feel it\n",
            "We had the lowest self-esteem I've ever seen\n",
            "\n",
            "N-n-n-n-n-now Diana Ross holding my Pepsi\n",
            "Hold your tongue, I'm brand new\n",
            "This is my dream, my first Hollywood Rolex\n",
            "My bitch got a ass, but my dick bigger\n",
            "I-I-MADE A DYNASTY, EZYY, I MISHELL\n",
            "Uh, if you really like Buzz Aldrin\n",
            "Then you should like this\n",
            "I MADE A DYNASTY, I'VE MADE A DYNASTY\n",
            "Uh, if you really like this\n",
            "I MADE A DYNASTY, I'VE MADE A DYNASTY\n",
            "I know that people wouldn't usually rap this\n",
            "But I'VE GONN I'M GOING OVER\n",
            " What's so special about Buzz Aldwin?\n",
            "Naw, he don't hate DC\n",
            "He just love the feeling of the real thing\n",
            "He said, \"Look at me, when I am in cars, honky up, turn around\"\n",
            "Hollerin' at the top of the game, give me pound signs\"\n",
            "He ain't really bout for it, he seem'6 wanna run it\"\n",
            "He said he talkin' 'bout it, he seem'6 want it\"\n",
            "But who the hell knows\n",
            "I've got a fact, man\n",
            "I've got a fact, man\n",
            "I've got a fact, man\n",
            "\n",
            "What's so special about Buzz Aldwin?\n",
            "Naw, he don't really fight book\n",
            "He just like Diddy, he love falling in love\n",
            "\n",
            "I remember jumping out the Benz out of the living room\n",
            "I remember flying in a rental car\n",
            "Spent all day on this dream\n",
            "Now I'm at the top doing my due diligence\n",
            "Before I share the results with the world\n",
            "I remember flying in that 'Reaps 'Mer had a deal\n",
            "New 'Ye dogg had a deal\n",
            "New 'Ye dogg had a deal\n",
            "This way\n",
            "I'm not on site now\n",
            "I know who you talking bout\n",
            "This way\n",
            "I'm not on site now\n",
            "I know who you talking bout\n",
            "This way\n",
            "\n",
            "I'm not on site now\n",
            "I know who you talking bout\n",
            "This way\n",
            "\n",
            "I'm not on site now\n",
            "I know who you talking bout\n",
            "This way\n",
            "\n",
            "Till midnight, she say I'm on medley\n",
            "I'm not on site now\n",
            "I know who you talking bout\n",
            "This way\n",
            "\n",
            "Till midnight, she say I'm on medley\n",
            "I'm not on site now\n",
            "I'm not on site now\n",
            "\n",
            "And I know she don't like it when I say she do\n",
            "I ask her was you on site then\n",
            " and you ain't on site now\n",
            "The world look like India, make that a quick day\n",
            "Niggas wear saggy clothes, she know what I am\n",
            "I hear she be thinking hard about this\n",
            "The plan was to have a child by the lake\n",
            "But she wouldn't take the plan anymore\n",
            "Cause of the inequality that we in this city\n",
            "Make a phone call, tell me what's up\n",
            "Is you confused? I'm big as a golf ball\n",
            "But I'm also as a singer\n",
            "I show you where I shine\n",
            "As a city guard\n",
            "But when I leave the car\n",
            "You drive off in a Hyundai\n",
            "She pulled up at the gas station\n",
            "And you wonder where she came\n",
            "When you get back she'll be there checking on you\n",
            "Like a local hero\n",
            "She pulled up at the gas station\n",
            "And you wonder where she came\n",
            "When you get back she'll be there checking on you\n",
            "Like a local hero\n",
            "Just so I can make it rain all spring\n",
            "Y'all seen her Facebook post saying she love you\n",
            "And I don't know what she is though\n",
            "Or I would have never Knew she was real\n",
            "I got a case to answer to (Picture: Ronda Kweli)\n",
            "But I'mas want a different kind of law enforcement\n",
            "I met this girl when I was 3 years old\n",
            "And what I loved most she had so much soul\n",
            "She said \"Excuse me little homey, I know you don't know me\n",
            "But, my name is Windy and I love y'all\n",
            "And I don't know what y'all do but know me\"\n",
            "And put up pictures of me on t-shirt\n",
            "She said \"I love your body, how you do that?\n",
            "Even though I don't know, do you? (You do?))\"\n",
            "And I did do it, till the wheels fell\n",
            "So I went and did it again\n",
            "Told you, I did it, and I'm up way too high\n",
            "\n",
            "(I touched her)\n",
            "Top sooo much, love of your life, loving you\n",
            "And I don't know but\n",
            "\n",
            "[810 | 1903.49] loss=0.04 avg=0.45\n",
            "[820 | 1926.31] loss=0.05 avg=0.44\n",
            "[830 | 1949.18] loss=0.03 avg=0.43\n",
            "[840 | 1972.04] loss=0.04 avg=0.43\n",
            "[850 | 1994.92] loss=0.05 avg=0.42\n",
            "[860 | 2017.81] loss=0.05 avg=0.41\n",
            "[870 | 2040.67] loss=0.04 avg=0.41\n",
            "[880 | 2063.57] loss=0.04 avg=0.40\n",
            "[890 | 2086.45] loss=0.04 avg=0.40\n",
            "[900 | 2109.31] loss=0.03 avg=0.39\n",
            "[910 | 2132.15] loss=0.04 avg=0.38\n",
            "[920 | 2154.98] loss=0.03 avg=0.38\n",
            "[930 | 2177.82] loss=0.04 avg=0.37\n",
            "[940 | 2200.66] loss=0.03 avg=0.37\n",
            "[950 | 2223.49] loss=0.03 avg=0.36\n",
            "[960 | 2246.32] loss=0.04 avg=0.36\n",
            "[970 | 2269.17] loss=0.04 avg=0.35\n",
            "[980 | 2292.00] loss=0.03 avg=0.35\n",
            "[990 | 2314.84] loss=0.04 avg=0.34\n",
            "[1000 | 2337.70] loss=0.04 avg=0.34\n",
            "Saving checkpoint/kanye1/model-1000\n",
            "WARNING:tensorflow:From /tensorflow-1.15.2/python3.6/tensorflow_core/python/training/saver.py:963: remove_checkpoint (from tensorflow.python.training.checkpoint_management) is deprecated and will be removed in a future version.\n",
            "Instructions for updating:\n",
            "Use standard file APIs to delete files with this prefix.\n"
          ],
          "name": "stdout"
        }
      ]
    },
    {
      "cell_type": "markdown",
      "metadata": {
        "id": "IXSuTNERaw6K"
      },
      "source": [
        "After the model is trained, you can copy the checkpoint folder to your own Google Drive.\n",
        "\n",
        "If you want to download it to your personal computer, it's strongly recommended you copy it there first, then download from Google Drive. The checkpoint folder is copied as a `.rar` compressed file; you can download it and uncompress it locally."
      ]
    },
    {
      "cell_type": "code",
      "metadata": {
        "id": "VHdTL8NDbAh3"
      },
      "source": [
        "gpt2.copy_checkpoint_to_gdrive(run_name='kanye1')"
      ],
      "execution_count": 7,
      "outputs": []
    },
    {
      "cell_type": "markdown",
      "metadata": {
        "id": "qQJgV_b4bmzd"
      },
      "source": [
        "You're done! Feel free to go to the **Generate Text From The Trained Model** section to generate text based on your retrained model."
      ]
    },
    {
      "cell_type": "markdown",
      "metadata": {
        "id": "pel-uBULXO2L"
      },
      "source": [
        "## Load a Trained Model Checkpoint\n",
        "\n",
        "Running the next cell will copy the `.rar` checkpoint file from your Google Drive into the Colaboratory VM."
      ]
    },
    {
      "cell_type": "code",
      "metadata": {
        "id": "DCcx5u7sbPTD"
      },
      "source": [
        "gpt2.copy_checkpoint_from_gdrive(run_name='kanye1')"
      ],
      "execution_count": 9,
      "outputs": []
    },
    {
      "cell_type": "markdown",
      "metadata": {
        "id": "RTa6zf3e_9gV"
      },
      "source": [
        "The next cell will allow you to load the retrained model checkpoint + metadata necessary to generate text.\n",
        "\n",
        "**IMPORTANT NOTE:** If you want to rerun this cell, **restart the VM first** (Runtime -> Restart Runtime). You will need to rerun imports but not recopy files."
      ]
    },
    {
      "cell_type": "code",
      "metadata": {
        "id": "-fxL77nvAMAX",
        "colab": {
          "base_uri": "https://localhost:8080/"
        },
        "outputId": "85a01880-e193-41e9-bff4-719142d053eb"
      },
      "source": [
        "sess = gpt2.start_tf_sess()\n",
        "gpt2.load_gpt2(sess, run_name='kanye1')"
      ],
      "execution_count": 6,
      "outputs": [
        {
          "output_type": "stream",
          "text": [
            "Loading checkpoint checkpoint/got1/model-1000\n",
            "INFO:tensorflow:Restoring parameters from checkpoint/got1/model-1000\n"
          ],
          "name": "stdout"
        }
      ]
    },
    {
      "cell_type": "markdown",
      "metadata": {
        "id": "ClJwpF_ACONp"
      },
      "source": [
        "## Generate Text From The Trained Model\n",
        "\n",
        "After you've trained the model or loaded a retrained model from checkpoint, you can now generate text. `generate` generates a single text from the loaded model."
      ]
    },
    {
      "cell_type": "code",
      "metadata": {
        "id": "4RNY6RBI9LmL",
        "colab": {
          "base_uri": "https://localhost:8080/"
        },
        "outputId": "72f76dfb-1a7d-44ac-f5f7-254c48fc58a2"
      },
      "source": [
        "gpt2.generate(sess, run_name='kanye1')"
      ],
      "execution_count": 22,
      "outputs": [
        {
          "output_type": "stream",
          "text": [
            "The Cool Whip - Deep fried hoisin' bread\n",
            "In the restaurant with my mama, she had me puffin' on her leather\n",
            "If you ain't knackered up like she did, you in the club\n",
            "You never listened to me then the music - the radio\n",
            "The Dre beats is killer, the Kanye beats is killer\n",
            "$ a night, that's a gig, you ain't get that\n",
            "You probably never get that money, you just looked at crybin'\n",
            "I'm a black man with a white wife, two black kids\n",
            "A rap beat, I'ma call somebody else\n",
            "I was sick about the beat, made a rap beat, black out\n",
            "But by the way nigga, if you don't got a job\n",
            "Then don't go making shit and lying\n",
            "About the beat, about the beat\n",
            "Black out, black out, I can't make it now\n",
            "I gotta call some niggas, get my kids\n",
            "Get they kids, that's the scene\n",
            "I can't make it now, I gotta move\n",
            "But I'm so sick about the beat, made a rap beat, black out\n",
            "But by the way nigga, if you don't have a job\n",
            "Then don't go making shit and lying\n",
            "About the beat, about the beat\n",
            "Black out, black out, I can't make it now\n",
            "But I can't make it now, I gotta move\n",
            "I got a black on black, I got a black on black\n",
            "Cold as the wind, yeah we go\n",
            "And we don't know where we gonna go\n",
            "And the beat's so cold, I can't make it\n",
            "But the pain's so worth it\n",
            "So let's make it, and then I make it\n",
            "\n",
            "I can't make it now, I gotta move\n",
            "But I'm so glad I got you on\n",
            "\n",
            "You know the name Kanye did, he was such a service\n",
            "I was so honored to be a part of that, man\n",
            "You can ask the Chicago Bulls\n",
            "I got a son and he was so kind\n",
            "To help me with my pain, man\n",
            "\n",
            "I can't even pronounce nothing, pass that ver-say-see\n",
            "Then I did Die by Daylight, man, that's good\n",
            "Funny how I'm good at this?\n",
            "Then forget me, be a reality\n",
            "Then explain why I'm bad\n",
            "You killed the day, look how I got on\n",
            "Thuggin', \"Damn, Axel Foley was wrong\"\n",
            "I'm back from the future seen\n",
            "Tarantino, Lexapro, Aaliyah\n",
            "Flyer, you get a girl, you go ahead and make her dance\n",
            "Awesome, Henny makes a bad nigga do this\n",
            "Awesome, I'm almost there, a lot of niggas did him\n",
            "\n",
            "I got a dirty mind, I got filthy ways\n",
            "I'm into something, that's more than just a job\n",
            "Some people do features and parcel\n",
            "And he is, so much more than that\n",
            "I wrote a track for the F-A-B-O\n",
            "Everytime I drive by, I'm looking at how I did\n",
            "Drive by and admire the view\n",
            "Tarantino, Lexapro\n",
            "A lot of niggas did him\n",
            "Act like you ain't saying he wasn't right\n",
            "I'm almost there, a lot of niggas did him\n",
            "Act like you ain't saying he wasn't right\n",
            "A lot of niggas do him, almost forgot him\n",
            "And he is, so much more than that\n",
            "\n",
            "I got a dirty mind, I got filthy ways\n",
            "I'm into something, that's more than just a job\n",
            "Some people do more beats than there are teams\n",
            "I played ten thousand balls, that's more than enough\n",
            "Pop the F-A-B-O, pop the champagne\n",
            "Pop the little suds, like the GS\n",
            "Get caught up in the moment, look back at how we hooked\n",
            "How we hooked, blew the game, blew the game again\n",
            "\n",
            "This the cray-ist shit in the world, yeah you're on point\n",
            "This the cray-ist shit in the world, yeah you're on point\n",
            "We rapping like we don't know what we doing\n",
            "Got the beats, but don't know what you're doin'\n",
            "Got the clothes, but don't know what you're doin'\n",
            "Yeah you're on, but you ain't love me\n",
            "Only thing you got is the love, is soon as she rockin\n",
            "\n",
            "She said, \"I don't rock walls\"\n",
            "If a nigga tell you the truth\n",
            "That's why my name got hype\n",
            "The reason I got so many names, only known for\n",
            "What you see is what you get\n",
            "Word got me, I couldn't get my ideas out\n",
            "Out of the corner of your eye\n",
            "Cause I can't see the O's, the screen was messed up\n",
            "\n",
            "Uh, snapped when I don't see shit\n"
          ],
          "name": "stdout"
        }
      ]
    },
    {
      "cell_type": "markdown",
      "metadata": {
        "id": "oF4-PqF0Fl7R"
      },
      "source": [
        "If you're creating an API based on your model and need to pass the generated text elsewhere, you can do `text = gpt2.generate(sess, return_as_list=True)[0]`\n",
        "\n",
        "You can also pass in a `prefix` to the generate function to force the text to start with a given character sequence and generate text from there (good if you add an indicator when the text starts).\n",
        "\n",
        "You can also generate multiple texts at a time by specifing `nsamples`. Unique to GPT-2, you can pass a `batch_size` to generate multiple samples in parallel, giving a massive speedup (in Colaboratory, set a maximum of 20 for `batch_size`).\n",
        "\n",
        "Other optional-but-helpful parameters for `gpt2.generate` and friends:\n",
        "\n",
        "*  **`length`**: Number of tokens to generate (default 1023, the maximum)\n",
        "* **`temperature`**: The higher the temperature, the crazier the text (default 0.7, recommended to keep between 0.7 and 1.0)\n",
        "* **`top_k`**: Limits the generated guesses to the top *k* guesses (default 0 which disables the behavior; if the generated output is super crazy, you may want to set `top_k=40`)\n",
        "* **`top_p`**: Nucleus sampling: limits the generated guesses to a cumulative probability. (gets good results on a dataset with `top_p=0.9`)\n",
        "* **`truncate`**: Truncates the input text until a given sequence, excluding that sequence (e.g. if `truncate='<|endoftext|>'`, the returned text will include everything before the first `<|endoftext|>`). It may be useful to combine this with a smaller `length` if the input texts are short.\n",
        "*  **`include_prefix`**: If using `truncate` and `include_prefix=False`, the specified `prefix` will not be included in the returned text."
      ]
    },
    {
      "cell_type": "code",
      "metadata": {
        "id": "8DKMc0fiej4N",
        "colab": {
          "base_uri": "https://localhost:8080/"
        },
        "outputId": "e9bf6950-8b28-4c64-cba5-5587d8663ed5"
      },
      "source": [
        "gpt2.generate(sess,\n",
        "              run_name=\"kanye1\",\n",
        "              length=250,\n",
        "              temperature=0.7,\n",
        "              \n",
        "              nsamples=5,              \n",
        "              batch_size=5,\n",
        "              include_prefix=False\n",
        "              )"
      ],
      "execution_count": 17,
      "outputs": [
        {
          "output_type": "stream",
          "text": [
            "My friend from school said I could pass\n",
            "My dick with the drive, he said I could get high\n",
            "I guess, that's why I'm here and I'm here\n",
            "I guess, that's why I'm here and I'm here\n",
            "I just wanted to say thank you to all my niggas\n",
            "You’ll see why I wanted to say thank you to all my niggas\n",
            "I guess I was just trying to say, well, I’m from dope\n",
            "If you believe me, then please don’t believe me\n",
            "\n",
            "I got a big ego, (hahaha)\n",
            "I’m such a big ego, (uhuhuh)\n",
            "I got a big, (eheheh), ego\n",
            "She love my big, (eheheh), Ego\n",
            "I guess she wants big, (eheheh), big\n",
            "She just got off the Ritz, she just got off the Benz\n",
            "She got a baby, she just got off the Popeye\n",
            "She a lil late, she just got off the Sprout\n",
            "She a lil late, she just got off the Sprout\n",
            "She a lil late, she just got off the Sprout\n",
            "====================\n",
            "Your mouth running, baby’s good\n",
            "You're so fresh, let me grab your wrist\n",
            "And y'all start swaggin’\n",
            "'Til the moment I get a chance to\n",
            "Think I'm the most influential\n",
            "Since the Gucci sign\n",
            "Think I'm the most influential\n",
            "Since the hood did it\n",
            "Since the light gets up\n",
            "We ain't finished talking though\n",
            "You talking about in a peep?\n",
            "Louis Vuitton man, those crayons kept blazin’\n",
            "Now we in the studio, all hot, all kept hot\n",
            "Louis Vuitton man, that’s a tight club\n",
            "So the Christian Vandervaing, or Vittorio Sosaing\n",
            "Louis Vuitton man, I would wear anything, even if it’s just some shoes\n",
            "Billboard, agenda, or time-consuming ritual\n",
            "Used to be shorty suits and push-up-up-up-your-shorts\n",
            "Now you get bangin' for my eyeballs\n",
            "I just wanted you to know, I don't like it when I feel it\n",
            "Bitches gon' forget about us, I just want you to forget\n",
            "\n",
            "Shorty got a new wardrobe\n",
            "====================\n",
            "Based on his past, based on his past\n",
            "Based on his past, based on his past\n",
            "Based on his past\n",
            "Based on his past\n",
            "Maybe it's because he the son of a bitch\n",
            "Y'all don't remember his daddy\n",
            "Maybe it's just because he forgot his mom\n",
            "or daddy is white\n",
            "Or niggas are having sex and choking on our drinks\n",
            "or choking on our drinks\n",
            "And we are having sex, but you just thinkin'\n",
            "Now we in the bathroom, gots to go, still have to go\n",
            "\n",
            "I got a couple things I'm tryin to peek at\n",
            "One, I love when you flirtin'\n",
            "Or when you act bougie\n",
            "Or when you grow up\n",
            "Or when you grow up\n",
            "Or when you don't know\n",
            "Do the math, I learned this from school\n",
            "You don't do the math, you fuckin' Scottie Pippen\n",
            "You don't do the math, you fuckin' Baby Pippen\n",
            "You ain't got no sense, you ain't got no sense\n",
            "I'mma get you a Ferrari, then I'mma get you a Bentley\n",
            "I'mma get you a Bentley Touch, then I'mma get\n",
            "====================\n",
            "Cause we all in the France welcome sign\n",
            "Welcome to the danger zone\n",
            "Step into the fantasy\n",
            "You are not invited to the other side of sanity\n",
            "They're callin' me an alien a big headed astronaut\n",
            "Maybe it's because your boy Yeezy get ass a lot\n",
            "\n",
            "I know a bar out in Mars\n",
            "Where they drivin' spaceships instead of cars\n",
            "Cop a prada space suit about the stars\n",
            "Getting stupid hah, straight up out the jars\n",
            "Pockets on shrek, rockets on deck\n",
            "Tell me what's next? Alien sex\n",
            "Imma disrobe you\n",
            "Then Imma probe you\n",
            "See I've abducted you\n",
            "So I'll tell you what to do\n",
            "I tell you what to do (what to do, what to do)\n",
            "\n",
            "Ever-ever, Mr. West is in the building\n",
            "Ain't no question who about to kill 'em\n",
            "I used to have hood dreams, big fame, big chains\n",
            "I stuck my dick inside this life until that bitch came\n",
            "And went hard, all fall like the ball teams\n",
            "Just so I can make it rain all spring\n",
            "Y'all seen my story, my glory\n",
            "I had raped the game young, you\n",
            "====================\n",
            "Speakin' of more turntables, better shit than they ever got turntables\n",
            "Shit's you know they gon' watch?\n",
            "\n",
            "When it feel like living's harder than it feels now\n",
            "When it feel like living's harder than it now\n",
            "Living's harder than it now, now, now\n",
            "Cause it's still too hot now, give or take a little bit, a little bit, a little bit\n",
            "And when you get to know me, the only thing you gotta do is love me\n",
            "Now that we're done, how about this:\n",
            "\n",
            "I wanna wake up and be where I wanna be\n",
            "I've been living like a bitch\n",
            "Tryin', tryin' to be where I wanna be\n",
            "I be the one, I been living like a bitch\n",
            "\n",
            "You deserve a girl who's ass can hold her own\n",
            "So hard, you need a hard dick\n",
            "And if she ever get a dick, it's too late for that\n",
            "You need a girl who's ass can hold her own\n",
            "So you can be like, \"Cool, that's me\"\n",
            "And be like, \"Damn, that's me\"\n",
            "And be like, \"Damn, that's me\"\n",
            "\n",
            "====================\n"
          ],
          "name": "stdout"
        }
      ]
    },
    {
      "cell_type": "markdown",
      "metadata": {
        "id": "zjjEN2Tafhl2"
      },
      "source": [
        "For bulk generation, you can generate a large amount of text to a file and sort out the samples locally on your computer. The next cell will generate a generated text file with a unique timestamp.\n",
        "\n",
        "You can rerun the cells as many times as you want for even more generated texts!"
      ]
    },
    {
      "cell_type": "code",
      "metadata": {
        "id": "Fa6p6arifSL0"
      },
      "source": [
        "gen_file = 'gpt2_gentext_{:%Y%m%d_%H%M%S}.txt'.format(datetime.utcnow())\n",
        "\n",
        "gpt2.generate_to_file(sess,\n",
        "                      run_name=\"kanye1\",\n",
        "                      destination_path=gen_file,\n",
        "                      length=500,\n",
        "                      temperature=0.7,\n",
        "                      nsamples=100,\n",
        "                      batch_size=20\n",
        "                      )"
      ],
      "execution_count": 20,
      "outputs": []
    },
    {
      "cell_type": "code",
      "metadata": {
        "id": "0-LRex8lfv1g"
      },
      "source": [
        "# may have to run twice to get file to download\n",
        "files.download(gen_file)"
      ],
      "execution_count": null,
      "outputs": []
    },
    {
      "cell_type": "markdown",
      "metadata": {
        "id": "QQAN3M6RT7Kj"
      },
      "source": [
        "## Generate Text From The Pretrained Model\n",
        "\n",
        "If you want to generate text from the pretrained model, not a finetuned model, pass `model_name` to `gpt2.load_gpt2()` and `gpt2.generate()`.\n",
        "\n",
        "This is currently the only way to generate text from the 774M or 1558M models with this notebook."
      ]
    },
    {
      "cell_type": "code",
      "metadata": {
        "id": "hsUd_jHgUZnD",
        "colab": {
          "base_uri": "https://localhost:8080/",
          "height": 158
        },
        "outputId": "4e0c8a3f-3527-41c4-e3fe-3357f3f8f6c2"
      },
      "source": [
        "model_name = \"774M\"\n",
        "\n",
        "gpt2.download_gpt2(model_name=model_name)"
      ],
      "execution_count": null,
      "outputs": [
        {
          "output_type": "stream",
          "text": [
            "Fetching checkpoint: 1.05Mit [00:00, 354Mit/s]                                                      \n",
            "Fetching encoder.json: 1.05Mit [00:00, 131Mit/s]                                                    \n",
            "Fetching hparams.json: 1.05Mit [00:00, 279Mit/s]                                                    \n",
            "Fetching model.ckpt.data-00000-of-00001: 3.10Git [00:23, 131Mit/s]                                  \n",
            "Fetching model.ckpt.index: 1.05Mit [00:00, 380Mit/s]                                                \n",
            "Fetching model.ckpt.meta: 2.10Mit [00:00, 226Mit/s]                                                 \n",
            "Fetching vocab.bpe: 1.05Mit [00:00, 199Mit/s]                                                       \n"
          ],
          "name": "stderr"
        }
      ]
    },
    {
      "cell_type": "code",
      "metadata": {
        "id": "BAe4NpKNUj2C",
        "colab": {
          "base_uri": "https://localhost:8080/",
          "height": 124
        },
        "outputId": "b09bfe1d-2ff8-4b8a-fffb-273d28d5d4ae"
      },
      "source": [
        "sess = gpt2.start_tf_sess()\n",
        "\n",
        "gpt2.load_gpt2(sess, model_name=model_name)"
      ],
      "execution_count": null,
      "outputs": [
        {
          "output_type": "stream",
          "text": [
            "WARNING: Logging before flag parsing goes to stderr.\n",
            "W0828 18:37:58.571830 139905369159552 deprecation.py:323] From /usr/local/lib/python3.6/dist-packages/tensorflow/python/training/saver.py:1276: checkpoint_exists (from tensorflow.python.training.checkpoint_management) is deprecated and will be removed in a future version.\n",
            "Instructions for updating:\n",
            "Use standard file APIs to check for files with this prefix.\n"
          ],
          "name": "stderr"
        },
        {
          "output_type": "stream",
          "text": [
            "Loading pretrained model models/774M/model.ckpt\n"
          ],
          "name": "stdout"
        }
      ]
    },
    {
      "cell_type": "code",
      "metadata": {
        "id": "-xInIZKaU104",
        "colab": {
          "base_uri": "https://localhost:8080/",
          "height": 797
        },
        "outputId": "56348e28-7d08-45e3-c859-f26c0efd066d"
      },
      "source": [
        "gpt2.generate(sess,\n",
        "              model_name=model_name,\n",
        "              prefix=\"The secret of life is\",\n",
        "              length=100,\n",
        "              temperature=0.7,\n",
        "              top_p=0.9,\n",
        "              nsamples=5,\n",
        "              batch_size=5\n",
        "              )"
      ],
      "execution_count": null,
      "outputs": [
        {
          "output_type": "stream",
          "text": [
            "The secret of life is that it's really easy to make it complicated,\" said Bill Nye, the host of the popular science show \"Bill Nye the Science Guy.\" \"And this is one of the reasons why we all need to be smarter about science, because we can't keep up with the amazing things that are going on all the time.\"\n",
            "\n",
            "While Nye is correct that \"everything that's going on all the time\" is making the world a better place, he misses the point. This is not\n",
            "====================\n",
            "The secret of life is in the rhythm of the universe. It's not a mystery. It's not a mystery to me. It's the nature of the universe. It's the beauty of the universe. It's the way the universe works. It's the way the universe is. It's the way the universe is going to work. It's the way the universe is. It's the way the universe is. It's the way the universe is. It's the way the universe is. It's the way\n",
            "====================\n",
            "The secret of life is in the universe.\n",
            "\n",
            "\n",
            "-\n",
            "\n",
            "The Red Devil\n",
            "\n",
            "It's the end of the world as we know it, and the only thing that can save us is a band of super-powered individuals known as the Red Devil.\n",
            "\n",
            "\n",
            "The Red Devil is a group of super-powered individuals who are seeking the secret of life and the only way they know how to do it is by taking on the roles of a variety of different super-powered individuals, each of which has their own\n",
            "====================\n",
            "The secret of life is in the mixing of the elements, and it is the mixing of the elements that makes life possible.\"\n",
            "\n",
            "But in the world of food science, the idea of a \"complex\" or \"complexity\" is almost entirely imaginary.\n",
            "\n",
            "As a scientist, I'm fascinated by the question of how life first began.\n",
            "\n",
            "It's the question that drives my work and the work of the scientists who work on it.\n",
            "\n",
            "My current research is exploring how microbes work in the first moments\n",
            "====================\n",
            "The secret of life is the journey of life, the search for the truth.\n",
            "\n",
            "4.4.2. The last thing you know\n",
            "\n",
            "There is nothing more important than the last thing you know.\n",
            "\n",
            "4.4.3. The little things that make all the difference\n",
            "\n",
            "The little things that make all the difference.\n",
            "\n",
            "4.4.4. The truth is the best teacher\n",
            "\n",
            "The truth is the best teacher.\n",
            "\n",
            "4.4.5. The truth is what\n",
            "====================\n"
          ],
          "name": "stdout"
        }
      ]
    },
    {
      "cell_type": "markdown",
      "metadata": {
        "id": "ig-KVgkCDCKD"
      },
      "source": [
        "# Etcetera\n",
        "\n",
        "If the notebook has errors (e.g. GPU Sync Fail), force-kill the Colaboratory virtual machine and restart it with the command below:"
      ]
    },
    {
      "cell_type": "code",
      "metadata": {
        "id": "rIHiVP53FnsX"
      },
      "source": [
        "!kill -9 -1"
      ],
      "execution_count": null,
      "outputs": []
    },
    {
      "cell_type": "markdown",
      "metadata": {
        "id": "wmTXWNUygS5E"
      },
      "source": [
        "# LICENSE\n",
        "\n",
        "MIT License\n",
        "\n",
        "Copyright (c) 2019 Max Woolf\n",
        "\n",
        "Permission is hereby granted, free of charge, to any person obtaining a copy\n",
        "of this software and associated documentation files (the \"Software\"), to deal\n",
        "in the Software without restriction, including without limitation the rights\n",
        "to use, copy, modify, merge, publish, distribute, sublicense, and/or sell\n",
        "copies of the Software, and to permit persons to whom the Software is\n",
        "furnished to do so, subject to the following conditions:\n",
        "\n",
        "The above copyright notice and this permission notice shall be included in all\n",
        "copies or substantial portions of the Software.\n",
        "\n",
        "THE SOFTWARE IS PROVIDED \"AS IS\", WITHOUT WARRANTY OF ANY KIND, EXPRESS OR\n",
        "IMPLIED, INCLUDING BUT NOT LIMITED TO THE WARRANTIES OF MERCHANTABILITY,\n",
        "FITNESS FOR A PARTICULAR PURPOSE AND NONINFRINGEMENT. IN NO EVENT SHALL THE\n",
        "AUTHORS OR COPYRIGHT HOLDERS BE LIABLE FOR ANY CLAIM, DAMAGES OR OTHER\n",
        "LIABILITY, WHETHER IN AN ACTION OF CONTRACT, TORT OR OTHERWISE, ARISING FROM,\n",
        "OUT OF OR IN CONNECTION WITH THE SOFTWARE OR THE USE OR OTHER DEALINGS IN THE\n",
        "SOFTWARE."
      ]
    }
  ]
}