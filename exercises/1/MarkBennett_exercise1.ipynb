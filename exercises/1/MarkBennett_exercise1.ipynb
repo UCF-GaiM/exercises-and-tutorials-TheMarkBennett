{
  "nbformat": 4,
  "nbformat_minor": 0,
  "metadata": {
    "colab": {
      "name": "MarkBennett_exercise1.ipynb",
      "provenance": [],
      "collapsed_sections": []
    },
    "kernelspec": {
      "name": "python3",
      "display_name": "Python 3"
    }
  },
  "cells": [
    {
      "cell_type": "code",
      "metadata": {
        "id": "fXjZPr2Roc3n"
      },
      "source": [
        "# Import statements -- run once\r\n",
        "!pip install markovify"
      ],
      "execution_count": null,
      "outputs": []
    },
    {
      "cell_type": "code",
      "metadata": {
        "id": "734t7RQvmNQ0"
      },
      "source": [
        "!pip install dominate"
      ],
      "execution_count": null,
      "outputs": []
    },
    {
      "cell_type": "code",
      "metadata": {
        "id": "aU7841SBsNBx"
      },
      "source": [
        "#libraries\r\n",
        "import markovify\r\n",
        "import re\r\n",
        "import spacy\r\n",
        "#markovify library\r\n",
        "import urllib.request\r\n",
        "import random\r\n"
      ],
      "execution_count": 54,
      "outputs": []
    },
    {
      "cell_type": "code",
      "metadata": {
        "id": "mhdL9yDsoiUQ"
      },
      "source": [
        "#html dominate library\r\n",
        "import dominate\r\n",
        "from dominate.tags import *"
      ],
      "execution_count": 16,
      "outputs": []
    },
    {
      "cell_type": "code",
      "metadata": {
        "id": "XdU1W4Yv3tK3"
      },
      "source": [
        "#load spaCy which is better for sentence structure\r\n",
        "nlp = spacy.load(\"en\")\r\n",
        "\r\n",
        "class POSifiedText(markovify.Text):\r\n",
        "    def word_split(self, sentence):\r\n",
        "        return [\"::\".join((word.orth_, word.pos_)) for word in nlp(sentence)]\r\n",
        "\r\n",
        "    def word_join(self, words):\r\n",
        "        sentence = \" \".join(word.split(\"::\")[0] for word in words)\r\n",
        "        return sentence"
      ],
      "execution_count": 5,
      "outputs": []
    },
    {
      "cell_type": "code",
      "metadata": {
        "id": "l9Us1sK4sYJi"
      },
      "source": [
        "#load a txt file from a url and decode it. Remove the meta data from the text file\r\n",
        "with urllib.request.urlopen(\"http://www.gutenberg.org/files/202/202-0.txt\") as f:\r\n",
        "  text = f.read().decode(\"utf8\").splitlines()[227:12133]\r\n",
        "f.close()"
      ],
      "execution_count": 6,
      "outputs": []
    },
    {
      "cell_type": "code",
      "metadata": {
        "id": "elS_7gons45s"
      },
      "source": [
        "with urllib.request.urlopen(\"http://www.gutenberg.org/cache/epub/45631/pg45631.txt\") as f:\r\n",
        "  text2 = f.read().decode(\"utf8\").splitlines()[504:8166] \r\n",
        "f.close()"
      ],
      "execution_count": 7,
      "outputs": []
    },
    {
      "cell_type": "code",
      "metadata": {
        "id": "6BoxBnFuo8OL"
      },
      "source": [
        "text3 = text+text2"
      ],
      "execution_count": 8,
      "outputs": []
    },
    {
      "cell_type": "code",
      "metadata": {
        "id": "mzTTStgRCXww"
      },
      "source": [
        "#filter text\r\n",
        "proselines = []\r\n",
        "for line in text3:\r\n",
        "    if len(line) > 30: # ignore all lines fewer than 30 chars\r\n",
        "        proselines.append(line.strip())\r\n",
        "\r\n",
        "# create a string that is all lines joined together\r\n",
        "prose = ' '.join(proselines)\r\n",
        "\r\n",
        "# now make the model\r\n",
        "text_model = markovify.Text(prose, state_size=3)"
      ],
      "execution_count": 9,
      "outputs": []
    },
    {
      "cell_type": "code",
      "metadata": {
        "id": "sE0l72cACofg"
      },
      "source": [
        "#print the text\r\n",
        "story=\"<p>\"\r\n",
        "\r\n",
        "for i in range(300):\r\n",
        "  story += str(text_model.make_sentence()) + \" \"\r\n",
        "  \r\n",
        "  r = random.randint(0,100)\r\n",
        "\r\n",
        "  if (r < 36):\r\n",
        "    story += \"</p><p>\"\r\n"
      ],
      "execution_count": 60,
      "outputs": []
    },
    {
      "cell_type": "code",
      "metadata": {
        "id": "LndJLHWmlphW"
      },
      "source": [
        "doc = dominate.document(title='Exercise 1 _ Mark')\r\n",
        "\r\n",
        "chuncked = story.split(\"\\n\\n\")\r\n",
        "\r\n",
        "with doc.head:\r\n",
        "    link(rel='stylesheet', href='https://cdn.jsdelivr.net/npm/bootstrap@5.0.0-beta1/dist/css/bootstrap.min.css', integrity='sha384-giJF6kkoqNQ00vy+HMDP7azOuL0xtbfIcaT9wjKHr8RbDVddVHyTfAAsrekwKmP1', crossorigin='anonymous'  )\r\n",
        "    script(type='text/javascript', src='https://cdn.jsdelivr.net/npm/bootstrap@5.0.0-beta1/dist/js/bootstrap.bundle.min.js', integrity='sha384-ygbV9kiqUc6oa4msXn9868pTtWMgiQaeYH7/t7LECLbyPA2x65Kgf80OJFdroafW', crossorigin='anonymous')\r\n",
        "\r\n",
        "with doc:\r\n",
        "  h1(\"Mark Bennett - Exercise 1\")\r\n",
        "  for c in chuncked:\r\n",
        "    p(c)\r\n",
        "\r\n",
        "##print(doc)\r\n",
        "\r\n",
        "## code from https://www.youtube.com/watch?v=sJA-n-_nKAg\r\n",
        "##with open('index.html', 'wb') as file:\r\n",
        " ## file.write(doc.encode('utf8'))\r\n",
        "\r\n"
      ],
      "execution_count": null,
      "outputs": []
    },
    {
      "cell_type": "code",
      "metadata": {
        "id": "gbQJryYP3k6v"
      },
      "source": [
        "html = '''\r\n",
        "<html>\r\n",
        "<link href=\"https://cdn.jsdelivr.net/npm/bootstrap@5.0.0-beta1/dist/css/bootstrap.min.css\" rel=\"stylesheet\" integrity=\"sha384-giJF6kkoqNQ00vy+HMDP7azOuL0xtbfIcaT9wjKHr8RbDVddVHyTfAAsrekwKmP1\" crossorigin=\"anonymous\">\r\n",
        "<script src=\"https://cdn.jsdelivr.net/npm/bootstrap@5.0.0-beta1/dist/js/bootstrap.bundle.min.js\" integrity=\"sha384-ygbV9kiqUc6oa4msXn9868pTtWMgiQaeYH7/t7LECLbyPA2x65Kgf80OJFdroafW\" crossorigin=\"anonymous\"></script>\r\n",
        "    <body>\r\n",
        "      <div class=\"container my-5\">\r\n",
        "        <h1>Exercise 1</h1>\r\n",
        "        {story}\r\n",
        "      </div>\r\n",
        "    </body>\r\n",
        "</html>\r\n",
        "'''.format(story=story)\r\n",
        "\r\n",
        "file = open(\"sample.html\",\"w\")\r\n",
        "file.write(html)\r\n",
        "file.close()"
      ],
      "execution_count": 61,
      "outputs": []
    }
  ]
}